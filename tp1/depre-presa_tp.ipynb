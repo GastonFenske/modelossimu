{
 "cells": [
  {
   "cell_type": "code",
   "execution_count": 92,
   "metadata": {},
   "outputs": [],
   "source": [
    "CANTIDAD_LIEBRES: int = 5000 # 500 liebres\n",
    "CANTIDAD_ZORROS: int = 1000  # 10 zorros\n",
    "SEMANAS: int = 500 # 500 semanas\n",
    "VARIACION_TIEMPO: int = 1 # 1 semana\n",
    "TASA_NATALIDAD_LIEBRES: int = 0.08 # 8% de nacimientos con alimento y sin depredadores\n",
    "\n",
    "TASA_MORTALIDAD_LIEBRES: float = 0.0002 # 0.2% de muertes por depredadores\n",
    "# ENCUENTROS = CANTIDAD_ZORROS * CANTIDAD_LIEBRES\n",
    "# TASA_MORTALIDAD_LIEBRES: float = CANTIDAD_ZORROS / ENCUENTROS # 0.002 depredadores\n",
    "\n",
    "TASA_SUPERVIVENCIA_ZORROS: float = 0.2 # 20% sobrevive sin presas\n",
    "CAPACIDAD_MAXIMA_TERRENO: int = 9000 # 1000 liebres\n",
    "TIEMPO_INICIAL: int = 1 # 1 semanas\n",
    "TASA_CRECIMIENTO_X_ENCUENTROS = (TASA_SUPERVIVENCIA_ZORROS * CANTIDAD_ZORROS) / (CANTIDAD_LIEBRES * CANTIDAD_ZORROS) # = 0.2 * 10 / 5000 = 0.0004"
   ]
  },
  {
   "cell_type": "code",
   "execution_count": 93,
   "metadata": {},
   "outputs": [],
   "source": [
    "def variacion_liebres(\n",
    "        liebres, \n",
    "        zorros,\n",
    "        tasa_natalidad_liebres,\n",
    "        tasa_mortalidad_liebres,\n",
    "        variacion_tiempo,\n",
    "        capacidad_maxima_terreno\n",
    "):\n",
    "    \"\"\"Calcula la variación de la población de liebres en un tiempo dado\"\"\"\n",
    "    tasa_liebres = (1/capacidad_maxima_terreno) * (capacidad_maxima_terreno - liebres) * tasa_natalidad_liebres * liebres\n",
    "    # tasa_liebres = tasa_natalidad_liebres * liebres\n",
    "    caza = zorros * liebres\n",
    "    return variacion_tiempo * ( tasa_liebres - (tasa_mortalidad_liebres * caza))\n",
    "\n",
    "def variacion_zorros(\n",
    "        liebres, \n",
    "        zorros,\n",
    "        tasa_supervivencia_zorros,\n",
    "        variacion_tiempo,\n",
    "        tasa_natalidad_zorros\n",
    "):\n",
    "    \"\"\"Calcula la variación de la población de depredadores en un tiempo dado\"\"\"\n",
    "    supervivencia_zorros = tasa_supervivencia_zorros * zorros # 0.2 * zorros = 2 zorros\n",
    "    caza = zorros * liebres\n",
    "    return variacion_tiempo * (tasa_natalidad_zorros * caza - supervivencia_zorros)"
   ]
  },
  {
   "cell_type": "code",
   "execution_count": 94,
   "metadata": {},
   "outputs": [
    {
     "data": {
      "text/html": [
       "<div>\n",
       "<style scoped>\n",
       "    .dataframe tbody tr th:only-of-type {\n",
       "        vertical-align: middle;\n",
       "    }\n",
       "\n",
       "    .dataframe tbody tr th {\n",
       "        vertical-align: top;\n",
       "    }\n",
       "\n",
       "    .dataframe thead th {\n",
       "        text-align: right;\n",
       "    }\n",
       "</style>\n",
       "<table border=\"1\" class=\"dataframe\">\n",
       "  <thead>\n",
       "    <tr style=\"text-align: right;\">\n",
       "      <th></th>\n",
       "      <th>poblacion_libres</th>\n",
       "      <th>poblacion_zorros</th>\n",
       "      <th>tiempo_semanas</th>\n",
       "    </tr>\n",
       "  </thead>\n",
       "  <tbody>\n",
       "    <tr>\n",
       "      <th>0</th>\n",
       "      <td>5000</td>\n",
       "      <td>1000</td>\n",
       "      <td>1</td>\n",
       "    </tr>\n",
       "  </tbody>\n",
       "</table>\n",
       "</div>"
      ],
      "text/plain": [
       "  poblacion_libres poblacion_zorros tiempo_semanas\n",
       "0             5000             1000              1"
      ]
     },
     "execution_count": 94,
     "metadata": {},
     "output_type": "execute_result"
    }
   ],
   "source": [
    "import pandas as pd\n",
    "df = pd.DataFrame(columns=['poblacion_libres', 'poblacion_zorros', 'tiempo_semanas'])\n",
    "df = pd.concat([df, pd.DataFrame([[CANTIDAD_LIEBRES, CANTIDAD_ZORROS, 1]], columns=['poblacion_libres', 'poblacion_zorros', 'tiempo_semanas'])])\n",
    "df"
   ]
  },
  {
   "cell_type": "code",
   "execution_count": 95,
   "metadata": {},
   "outputs": [],
   "source": [
    "\n",
    "def simular_caza():\n",
    "    global df\n",
    "\n",
    "    tiempo = TIEMPO_INICIAL\n",
    "    liebres = CANTIDAD_LIEBRES\n",
    "    zorros = CANTIDAD_ZORROS\n",
    "\n",
    "    for i in range(SEMANAS - 1):\n",
    "        tiempo = tiempo + VARIACION_TIEMPO\n",
    "        liebres += variacion_liebres(\n",
    "            liebres=liebres,\n",
    "            zorros=zorros,\n",
    "            tasa_natalidad_liebres=TASA_NATALIDAD_LIEBRES,\n",
    "            tasa_mortalidad_liebres=TASA_MORTALIDAD_LIEBRES,\n",
    "            variacion_tiempo=VARIACION_TIEMPO,\n",
    "            capacidad_maxima_terreno=CAPACIDAD_MAXIMA_TERRENO\n",
    "        )\n",
    "        zorros += variacion_zorros(\n",
    "            liebres=liebres,\n",
    "            zorros=zorros,\n",
    "            tasa_supervivencia_zorros=TASA_SUPERVIVENCIA_ZORROS,\n",
    "            variacion_tiempo=VARIACION_TIEMPO,\n",
    "            tasa_natalidad_zorros=TASA_CRECIMIENTO_X_ENCUENTROS\n",
    "        )\n",
    "\n",
    "        df = pd.concat([df, pd.DataFrame([[liebres, zorros, tiempo]], columns=['poblacion_libres', 'poblacion_zorros', 'tiempo_semanas'])])\n",
    "\n",
    "simular_caza()"
   ]
  },
  {
   "cell_type": "code",
   "execution_count": 96,
   "metadata": {},
   "outputs": [
    {
     "name": "stdout",
     "output_type": "stream",
     "text": [
      "<class 'pandas.core.frame.DataFrame'>\n",
      "Int64Index: 500 entries, 0 to 0\n",
      "Data columns (total 3 columns):\n",
      " #   Column            Non-Null Count  Dtype \n",
      "---  ------            --------------  ----- \n",
      " 0   poblacion_libres  500 non-null    object\n",
      " 1   poblacion_zorros  500 non-null    object\n",
      " 2   tiempo_semanas    500 non-null    object\n",
      "dtypes: object(3)\n",
      "memory usage: 15.6+ KB\n"
     ]
    }
   ],
   "source": [
    "df.info()"
   ]
  },
  {
   "cell_type": "code",
   "execution_count": 97,
   "metadata": {},
   "outputs": [
    {
     "data": {
      "text/html": [
       "<div>\n",
       "<style scoped>\n",
       "    .dataframe tbody tr th:only-of-type {\n",
       "        vertical-align: middle;\n",
       "    }\n",
       "\n",
       "    .dataframe tbody tr th {\n",
       "        vertical-align: top;\n",
       "    }\n",
       "\n",
       "    .dataframe thead th {\n",
       "        text-align: right;\n",
       "    }\n",
       "</style>\n",
       "<table border=\"1\" class=\"dataframe\">\n",
       "  <thead>\n",
       "    <tr style=\"text-align: right;\">\n",
       "      <th></th>\n",
       "      <th>poblacion_libres</th>\n",
       "      <th>poblacion_zorros</th>\n",
       "      <th>tiempo_semanas</th>\n",
       "    </tr>\n",
       "  </thead>\n",
       "  <tbody>\n",
       "    <tr>\n",
       "      <th>0</th>\n",
       "      <td>5000</td>\n",
       "      <td>1000</td>\n",
       "      <td>1</td>\n",
       "    </tr>\n",
       "    <tr>\n",
       "      <th>0</th>\n",
       "      <td>4177.777778</td>\n",
       "      <td>967.111111</td>\n",
       "      <td>2</td>\n",
       "    </tr>\n",
       "    <tr>\n",
       "      <th>0</th>\n",
       "      <td>3548.779808</td>\n",
       "      <td>910.971464</td>\n",
       "      <td>3</td>\n",
       "    </tr>\n",
       "    <tr>\n",
       "      <th>0</th>\n",
       "      <td>3074.169537</td>\n",
       "      <td>840.7964</td>\n",
       "      <td>4</td>\n",
       "    </tr>\n",
       "    <tr>\n",
       "      <th>0</th>\n",
       "      <td>2719.148357</td>\n",
       "      <td>764.087126</td>\n",
       "      <td>5</td>\n",
       "    </tr>\n",
       "  </tbody>\n",
       "</table>\n",
       "</div>"
      ],
      "text/plain": [
       "  poblacion_libres poblacion_zorros tiempo_semanas\n",
       "0             5000             1000              1\n",
       "0      4177.777778       967.111111              2\n",
       "0      3548.779808       910.971464              3\n",
       "0      3074.169537         840.7964              4\n",
       "0      2719.148357       764.087126              5"
      ]
     },
     "execution_count": 97,
     "metadata": {},
     "output_type": "execute_result"
    }
   ],
   "source": [
    "df.head()"
   ]
  },
  {
   "cell_type": "code",
   "execution_count": 98,
   "metadata": {},
   "outputs": [
    {
     "data": {
      "image/png": "[encoded data removed]",
      "text/plain": [
       "<Figure size 432x288 with 1 Axes>"
      ]
     },
     "metadata": {
      "needs_background": "light"
     },
     "output_type": "display_data"
    },
    {
     "data": {
      "image/png": "[encoded data removed]",
      "text/plain": [
       "<Figure size 432x288 with 1 Axes>"
      ]
     },
     "metadata": {
      "needs_background": "light"
     },
     "output_type": "display_data"
    }
   ],
   "source": [
    "import matplotlib.pyplot as plt\n",
    "import matplotlib.cm as cm\n",
    "import numpy as np\n",
    "\n",
    "# Grafica 1\n",
    "plt.close()\n",
    "colors = cm.rainbow(np.linspace(0, 1, 2))\n",
    "\n",
    "plt.plot(df['tiempo_semanas'],\n",
    "         df['poblacion_libres'],\n",
    "         c=colors[0],\n",
    "         label=\"Liebres\")\n",
    "plt.plot(df['tiempo_semanas'],\n",
    "         df['poblacion_zorros'],\n",
    "         c=colors[1],\n",
    "         label=\"Zorros\")\n",
    "plt.title('Comparando la densidad poblacional de liebres y zorros.')\n",
    "plt.xlabel('Semanas')\n",
    "plt.xticks(rotation=90)\n",
    "plt.legend()\n",
    "plt.ylabel('Densidad poblacional')\n",
    "\n",
    "plt.show()\n",
    "\n",
    "# Grafica 2\n",
    "plt.close()\n",
    "plt.plot(df['poblacion_zorros'],\n",
    "         df['poblacion_libres'],\n",
    "         c=colors[0])\n",
    "plt.title('Diagrama de fases de las poblaciones de liebres y de zorros.')\n",
    "plt.xlabel('Zorros')\n",
    "plt.xticks(rotation=90)\n",
    "plt.ylabel('Liebres')\n",
    "plt.show()"
   ]
  }
 ],
 "metadata": {
  "kernelspec": {
   "display_name": "Python 3",
   "language": "python",
   "name": "python3"
  },
  "language_info": {
   "codemirror_mode": {
    "name": "ipython",
    "version": 3
   },
   "file_extension": ".py",
   "mimetype": "text/x-python",
   "name": "python",
   "nbconvert_exporter": "python",
   "pygments_lexer": "ipython3",
   "version": "3.10.2"
  }
 },
 "nbformat": 4,
 "nbformat_minor": 2
}
